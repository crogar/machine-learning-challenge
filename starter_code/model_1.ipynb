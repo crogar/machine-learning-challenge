{
 "cells": [
  {
   "cell_type": "code",
   "execution_count": 1,
   "metadata": {},
   "outputs": [],
   "source": [
    "import warnings\n",
    "warnings.filterwarnings(action='ignore')"
   ]
  },
  {
   "cell_type": "code",
   "execution_count": 2,
   "metadata": {
    "scrolled": true
   },
   "outputs": [
    {
     "name": "stdout",
     "output_type": "stream",
     "text": [
      "Requirement already up-to-date: sklearn in c:\\programdata\\anaconda3\\lib\\site-packages (0.0)\n",
      "Requirement already satisfied, skipping upgrade: scikit-learn in c:\\programdata\\anaconda3\\lib\\site-packages (from sklearn) (0.23.2)\n",
      "Requirement already satisfied, skipping upgrade: scipy>=0.19.1 in c:\\programdata\\anaconda3\\lib\\site-packages (from scikit-learn->sklearn) (1.5.2)\n",
      "Requirement already satisfied, skipping upgrade: threadpoolctl>=2.0.0 in c:\\programdata\\anaconda3\\lib\\site-packages (from scikit-learn->sklearn) (2.1.0)\n",
      "Requirement already satisfied, skipping upgrade: numpy>=1.13.3 in c:\\programdata\\anaconda3\\lib\\site-packages (from scikit-learn->sklearn) (1.19.2)\n",
      "Requirement already satisfied, skipping upgrade: joblib>=0.11 in c:\\programdata\\anaconda3\\lib\\site-packages (from scikit-learn->sklearn) (0.17.0)\n"
     ]
    }
   ],
   "source": [
    "# Update sklearn to prevent version mismatches\n",
    "!pip install sklearn --upgrade"
   ]
  },
  {
   "cell_type": "code",
   "execution_count": 3,
   "metadata": {},
   "outputs": [
    {
     "name": "stdout",
     "output_type": "stream",
     "text": [
      "Requirement already satisfied: joblib in c:\\programdata\\anaconda3\\lib\\site-packages (0.17.0)\n"
     ]
    }
   ],
   "source": [
    "# install joblib. This will be used to save your model. \n",
    "# Restart your kernel after installing \n",
    "!pip install joblib"
   ]
  },
  {
   "cell_type": "code",
   "execution_count": 4,
   "metadata": {},
   "outputs": [],
   "source": [
    "import pandas as pd\n",
    "import matplotlib.pyplot as plt\n",
    "import numpy as np"
   ]
  },
  {
   "cell_type": "markdown",
   "metadata": {},
   "source": [
    "# Read the CSV and Perform Basic Data Cleaning"
   ]
  },
  {
   "cell_type": "code",
   "execution_count": 5,
   "metadata": {
    "scrolled": true
   },
   "outputs": [
    {
     "data": {
      "text/html": [
       "<div>\n",
       "<style scoped>\n",
       "    .dataframe tbody tr th:only-of-type {\n",
       "        vertical-align: middle;\n",
       "    }\n",
       "\n",
       "    .dataframe tbody tr th {\n",
       "        vertical-align: top;\n",
       "    }\n",
       "\n",
       "    .dataframe thead th {\n",
       "        text-align: right;\n",
       "    }\n",
       "</style>\n",
       "<table border=\"1\" class=\"dataframe\">\n",
       "  <thead>\n",
       "    <tr style=\"text-align: right;\">\n",
       "      <th></th>\n",
       "      <th>koi_disposition</th>\n",
       "      <th>koi_fpflag_nt</th>\n",
       "      <th>koi_fpflag_ss</th>\n",
       "      <th>koi_fpflag_co</th>\n",
       "      <th>koi_fpflag_ec</th>\n",
       "      <th>koi_period</th>\n",
       "      <th>koi_period_err1</th>\n",
       "      <th>koi_period_err2</th>\n",
       "      <th>koi_time0bk</th>\n",
       "      <th>koi_time0bk_err1</th>\n",
       "      <th>...</th>\n",
       "      <th>koi_steff_err2</th>\n",
       "      <th>koi_slogg</th>\n",
       "      <th>koi_slogg_err1</th>\n",
       "      <th>koi_slogg_err2</th>\n",
       "      <th>koi_srad</th>\n",
       "      <th>koi_srad_err1</th>\n",
       "      <th>koi_srad_err2</th>\n",
       "      <th>ra</th>\n",
       "      <th>dec</th>\n",
       "      <th>koi_kepmag</th>\n",
       "    </tr>\n",
       "  </thead>\n",
       "  <tbody>\n",
       "    <tr>\n",
       "      <th>0</th>\n",
       "      <td>CONFIRMED</td>\n",
       "      <td>0</td>\n",
       "      <td>0</td>\n",
       "      <td>0</td>\n",
       "      <td>0</td>\n",
       "      <td>54.418383</td>\n",
       "      <td>2.479000e-04</td>\n",
       "      <td>-2.479000e-04</td>\n",
       "      <td>162.513840</td>\n",
       "      <td>0.003520</td>\n",
       "      <td>...</td>\n",
       "      <td>-81</td>\n",
       "      <td>4.467</td>\n",
       "      <td>0.064</td>\n",
       "      <td>-0.096</td>\n",
       "      <td>0.927</td>\n",
       "      <td>0.105</td>\n",
       "      <td>-0.061</td>\n",
       "      <td>291.93423</td>\n",
       "      <td>48.141651</td>\n",
       "      <td>15.347</td>\n",
       "    </tr>\n",
       "    <tr>\n",
       "      <th>1</th>\n",
       "      <td>FALSE POSITIVE</td>\n",
       "      <td>0</td>\n",
       "      <td>1</td>\n",
       "      <td>0</td>\n",
       "      <td>0</td>\n",
       "      <td>19.899140</td>\n",
       "      <td>1.490000e-05</td>\n",
       "      <td>-1.490000e-05</td>\n",
       "      <td>175.850252</td>\n",
       "      <td>0.000581</td>\n",
       "      <td>...</td>\n",
       "      <td>-176</td>\n",
       "      <td>4.544</td>\n",
       "      <td>0.044</td>\n",
       "      <td>-0.176</td>\n",
       "      <td>0.868</td>\n",
       "      <td>0.233</td>\n",
       "      <td>-0.078</td>\n",
       "      <td>297.00482</td>\n",
       "      <td>48.134129</td>\n",
       "      <td>15.436</td>\n",
       "    </tr>\n",
       "    <tr>\n",
       "      <th>2</th>\n",
       "      <td>FALSE POSITIVE</td>\n",
       "      <td>0</td>\n",
       "      <td>1</td>\n",
       "      <td>0</td>\n",
       "      <td>0</td>\n",
       "      <td>1.736952</td>\n",
       "      <td>2.630000e-07</td>\n",
       "      <td>-2.630000e-07</td>\n",
       "      <td>170.307565</td>\n",
       "      <td>0.000115</td>\n",
       "      <td>...</td>\n",
       "      <td>-174</td>\n",
       "      <td>4.564</td>\n",
       "      <td>0.053</td>\n",
       "      <td>-0.168</td>\n",
       "      <td>0.791</td>\n",
       "      <td>0.201</td>\n",
       "      <td>-0.067</td>\n",
       "      <td>285.53461</td>\n",
       "      <td>48.285210</td>\n",
       "      <td>15.597</td>\n",
       "    </tr>\n",
       "    <tr>\n",
       "      <th>3</th>\n",
       "      <td>CONFIRMED</td>\n",
       "      <td>0</td>\n",
       "      <td>0</td>\n",
       "      <td>0</td>\n",
       "      <td>0</td>\n",
       "      <td>2.525592</td>\n",
       "      <td>3.760000e-06</td>\n",
       "      <td>-3.760000e-06</td>\n",
       "      <td>171.595550</td>\n",
       "      <td>0.001130</td>\n",
       "      <td>...</td>\n",
       "      <td>-211</td>\n",
       "      <td>4.438</td>\n",
       "      <td>0.070</td>\n",
       "      <td>-0.210</td>\n",
       "      <td>1.046</td>\n",
       "      <td>0.334</td>\n",
       "      <td>-0.133</td>\n",
       "      <td>288.75488</td>\n",
       "      <td>48.226200</td>\n",
       "      <td>15.509</td>\n",
       "    </tr>\n",
       "    <tr>\n",
       "      <th>4</th>\n",
       "      <td>CONFIRMED</td>\n",
       "      <td>0</td>\n",
       "      <td>0</td>\n",
       "      <td>0</td>\n",
       "      <td>0</td>\n",
       "      <td>4.134435</td>\n",
       "      <td>1.050000e-05</td>\n",
       "      <td>-1.050000e-05</td>\n",
       "      <td>172.979370</td>\n",
       "      <td>0.001900</td>\n",
       "      <td>...</td>\n",
       "      <td>-232</td>\n",
       "      <td>4.486</td>\n",
       "      <td>0.054</td>\n",
       "      <td>-0.229</td>\n",
       "      <td>0.972</td>\n",
       "      <td>0.315</td>\n",
       "      <td>-0.105</td>\n",
       "      <td>296.28613</td>\n",
       "      <td>48.224670</td>\n",
       "      <td>15.714</td>\n",
       "    </tr>\n",
       "  </tbody>\n",
       "</table>\n",
       "<p>5 rows × 41 columns</p>\n",
       "</div>"
      ],
      "text/plain": [
       "  koi_disposition  koi_fpflag_nt  koi_fpflag_ss  koi_fpflag_co  koi_fpflag_ec  \\\n",
       "0       CONFIRMED              0              0              0              0   \n",
       "1  FALSE POSITIVE              0              1              0              0   \n",
       "2  FALSE POSITIVE              0              1              0              0   \n",
       "3       CONFIRMED              0              0              0              0   \n",
       "4       CONFIRMED              0              0              0              0   \n",
       "\n",
       "   koi_period  koi_period_err1  koi_period_err2  koi_time0bk  \\\n",
       "0   54.418383     2.479000e-04    -2.479000e-04   162.513840   \n",
       "1   19.899140     1.490000e-05    -1.490000e-05   175.850252   \n",
       "2    1.736952     2.630000e-07    -2.630000e-07   170.307565   \n",
       "3    2.525592     3.760000e-06    -3.760000e-06   171.595550   \n",
       "4    4.134435     1.050000e-05    -1.050000e-05   172.979370   \n",
       "\n",
       "   koi_time0bk_err1  ...  koi_steff_err2  koi_slogg  koi_slogg_err1  \\\n",
       "0          0.003520  ...             -81      4.467           0.064   \n",
       "1          0.000581  ...            -176      4.544           0.044   \n",
       "2          0.000115  ...            -174      4.564           0.053   \n",
       "3          0.001130  ...            -211      4.438           0.070   \n",
       "4          0.001900  ...            -232      4.486           0.054   \n",
       "\n",
       "   koi_slogg_err2  koi_srad  koi_srad_err1  koi_srad_err2         ra  \\\n",
       "0          -0.096     0.927          0.105         -0.061  291.93423   \n",
       "1          -0.176     0.868          0.233         -0.078  297.00482   \n",
       "2          -0.168     0.791          0.201         -0.067  285.53461   \n",
       "3          -0.210     1.046          0.334         -0.133  288.75488   \n",
       "4          -0.229     0.972          0.315         -0.105  296.28613   \n",
       "\n",
       "         dec  koi_kepmag  \n",
       "0  48.141651      15.347  \n",
       "1  48.134129      15.436  \n",
       "2  48.285210      15.597  \n",
       "3  48.226200      15.509  \n",
       "4  48.224670      15.714  \n",
       "\n",
       "[5 rows x 41 columns]"
      ]
     },
     "execution_count": 5,
     "metadata": {},
     "output_type": "execute_result"
    }
   ],
   "source": [
    "df = pd.read_csv(\"exoplanet_data.csv\")\n",
    "# Drop the null columns where all values are null\n",
    "df = df.dropna(axis='columns', how='all')\n",
    "# Drop the null rows\n",
    "df = df.dropna()\n",
    "df.head()"
   ]
  },
  {
   "cell_type": "code",
   "execution_count": 6,
   "metadata": {},
   "outputs": [
    {
     "data": {
      "text/plain": [
       "FALSE POSITIVE    3504\n",
       "CONFIRMED         1800\n",
       "CANDIDATE         1687\n",
       "Name: koi_disposition, dtype: int64"
      ]
     },
     "execution_count": 6,
     "metadata": {},
     "output_type": "execute_result"
    }
   ],
   "source": [
    "df['koi_disposition'].value_counts()"
   ]
  },
  {
   "cell_type": "markdown",
   "metadata": {},
   "source": [
    "# Select your features (columns)"
   ]
  },
  {
   "cell_type": "code",
   "execution_count": 7,
   "metadata": {},
   "outputs": [],
   "source": [
    "# Set features. This will also be used as your x values.\n",
    "X = selected_features = df.drop(columns=[\"koi_disposition\"])"
   ]
  },
  {
   "cell_type": "markdown",
   "metadata": {},
   "source": [
    "# Create a Train Test Split\n",
    "\n",
    "Use `koi_disposition` for the y values"
   ]
  },
  {
   "cell_type": "code",
   "execution_count": 8,
   "metadata": {},
   "outputs": [],
   "source": [
    "# Target Values\n",
    "y = df['koi_disposition']"
   ]
  },
  {
   "cell_type": "code",
   "execution_count": 9,
   "metadata": {},
   "outputs": [],
   "source": [
    "from sklearn.model_selection import train_test_split\n",
    "\n",
    "X_train, X_test, y_train, y_test = train_test_split(X, y, random_state=3,stratify=y)"
   ]
  },
  {
   "cell_type": "code",
   "execution_count": 10,
   "metadata": {},
   "outputs": [
    {
     "data": {
      "text/html": [
       "<div>\n",
       "<style scoped>\n",
       "    .dataframe tbody tr th:only-of-type {\n",
       "        vertical-align: middle;\n",
       "    }\n",
       "\n",
       "    .dataframe tbody tr th {\n",
       "        vertical-align: top;\n",
       "    }\n",
       "\n",
       "    .dataframe thead th {\n",
       "        text-align: right;\n",
       "    }\n",
       "</style>\n",
       "<table border=\"1\" class=\"dataframe\">\n",
       "  <thead>\n",
       "    <tr style=\"text-align: right;\">\n",
       "      <th></th>\n",
       "      <th>koi_fpflag_nt</th>\n",
       "      <th>koi_fpflag_ss</th>\n",
       "      <th>koi_fpflag_co</th>\n",
       "      <th>koi_fpflag_ec</th>\n",
       "      <th>koi_period</th>\n",
       "      <th>koi_period_err1</th>\n",
       "      <th>koi_period_err2</th>\n",
       "      <th>koi_time0bk</th>\n",
       "      <th>koi_time0bk_err1</th>\n",
       "      <th>koi_time0bk_err2</th>\n",
       "      <th>...</th>\n",
       "      <th>koi_steff_err2</th>\n",
       "      <th>koi_slogg</th>\n",
       "      <th>koi_slogg_err1</th>\n",
       "      <th>koi_slogg_err2</th>\n",
       "      <th>koi_srad</th>\n",
       "      <th>koi_srad_err1</th>\n",
       "      <th>koi_srad_err2</th>\n",
       "      <th>ra</th>\n",
       "      <th>dec</th>\n",
       "      <th>koi_kepmag</th>\n",
       "    </tr>\n",
       "  </thead>\n",
       "  <tbody>\n",
       "    <tr>\n",
       "      <th>6743</th>\n",
       "      <td>0</td>\n",
       "      <td>1</td>\n",
       "      <td>0</td>\n",
       "      <td>0</td>\n",
       "      <td>1.721314</td>\n",
       "      <td>1.950000e-07</td>\n",
       "      <td>-1.950000e-07</td>\n",
       "      <td>132.531896</td>\n",
       "      <td>0.000094</td>\n",
       "      <td>-0.000094</td>\n",
       "      <td>...</td>\n",
       "      <td>-196</td>\n",
       "      <td>4.371</td>\n",
       "      <td>0.124</td>\n",
       "      <td>-0.186</td>\n",
       "      <td>1.073</td>\n",
       "      <td>0.316</td>\n",
       "      <td>-0.170</td>\n",
       "      <td>289.74515</td>\n",
       "      <td>45.187160</td>\n",
       "      <td>15.187</td>\n",
       "    </tr>\n",
       "    <tr>\n",
       "      <th>1510</th>\n",
       "      <td>0</td>\n",
       "      <td>0</td>\n",
       "      <td>1</td>\n",
       "      <td>0</td>\n",
       "      <td>1.087491</td>\n",
       "      <td>1.730000e-06</td>\n",
       "      <td>-1.730000e-06</td>\n",
       "      <td>131.770340</td>\n",
       "      <td>0.001370</td>\n",
       "      <td>-0.001370</td>\n",
       "      <td>...</td>\n",
       "      <td>-187</td>\n",
       "      <td>3.594</td>\n",
       "      <td>0.360</td>\n",
       "      <td>-0.120</td>\n",
       "      <td>3.204</td>\n",
       "      <td>0.594</td>\n",
       "      <td>-1.287</td>\n",
       "      <td>297.85938</td>\n",
       "      <td>40.326939</td>\n",
       "      <td>13.214</td>\n",
       "    </tr>\n",
       "    <tr>\n",
       "      <th>360</th>\n",
       "      <td>0</td>\n",
       "      <td>0</td>\n",
       "      <td>0</td>\n",
       "      <td>0</td>\n",
       "      <td>16.568068</td>\n",
       "      <td>5.230000e-05</td>\n",
       "      <td>-5.230000e-05</td>\n",
       "      <td>146.152850</td>\n",
       "      <td>0.002310</td>\n",
       "      <td>-0.002310</td>\n",
       "      <td>...</td>\n",
       "      <td>-80</td>\n",
       "      <td>4.602</td>\n",
       "      <td>0.024</td>\n",
       "      <td>-0.038</td>\n",
       "      <td>0.716</td>\n",
       "      <td>0.040</td>\n",
       "      <td>-0.032</td>\n",
       "      <td>292.46976</td>\n",
       "      <td>37.567791</td>\n",
       "      <td>15.391</td>\n",
       "    </tr>\n",
       "    <tr>\n",
       "      <th>5462</th>\n",
       "      <td>1</td>\n",
       "      <td>0</td>\n",
       "      <td>0</td>\n",
       "      <td>0</td>\n",
       "      <td>2.500128</td>\n",
       "      <td>4.010000e-05</td>\n",
       "      <td>-4.010000e-05</td>\n",
       "      <td>131.582900</td>\n",
       "      <td>0.018100</td>\n",
       "      <td>-0.018100</td>\n",
       "      <td>...</td>\n",
       "      <td>-227</td>\n",
       "      <td>4.120</td>\n",
       "      <td>0.172</td>\n",
       "      <td>-0.172</td>\n",
       "      <td>1.664</td>\n",
       "      <td>0.864</td>\n",
       "      <td>-0.411</td>\n",
       "      <td>295.38477</td>\n",
       "      <td>49.333672</td>\n",
       "      <td>11.270</td>\n",
       "    </tr>\n",
       "    <tr>\n",
       "      <th>5780</th>\n",
       "      <td>0</td>\n",
       "      <td>1</td>\n",
       "      <td>1</td>\n",
       "      <td>1</td>\n",
       "      <td>2.245721</td>\n",
       "      <td>2.340000e-05</td>\n",
       "      <td>-2.340000e-05</td>\n",
       "      <td>133.266780</td>\n",
       "      <td>0.009480</td>\n",
       "      <td>-0.009480</td>\n",
       "      <td>...</td>\n",
       "      <td>-214</td>\n",
       "      <td>4.455</td>\n",
       "      <td>0.052</td>\n",
       "      <td>-0.195</td>\n",
       "      <td>1.026</td>\n",
       "      <td>0.302</td>\n",
       "      <td>-0.108</td>\n",
       "      <td>292.69376</td>\n",
       "      <td>42.760899</td>\n",
       "      <td>14.244</td>\n",
       "    </tr>\n",
       "  </tbody>\n",
       "</table>\n",
       "<p>5 rows × 40 columns</p>\n",
       "</div>"
      ],
      "text/plain": [
       "      koi_fpflag_nt  koi_fpflag_ss  koi_fpflag_co  koi_fpflag_ec  koi_period  \\\n",
       "6743              0              1              0              0    1.721314   \n",
       "1510              0              0              1              0    1.087491   \n",
       "360               0              0              0              0   16.568068   \n",
       "5462              1              0              0              0    2.500128   \n",
       "5780              0              1              1              1    2.245721   \n",
       "\n",
       "      koi_period_err1  koi_period_err2  koi_time0bk  koi_time0bk_err1  \\\n",
       "6743     1.950000e-07    -1.950000e-07   132.531896          0.000094   \n",
       "1510     1.730000e-06    -1.730000e-06   131.770340          0.001370   \n",
       "360      5.230000e-05    -5.230000e-05   146.152850          0.002310   \n",
       "5462     4.010000e-05    -4.010000e-05   131.582900          0.018100   \n",
       "5780     2.340000e-05    -2.340000e-05   133.266780          0.009480   \n",
       "\n",
       "      koi_time0bk_err2  ...  koi_steff_err2  koi_slogg  koi_slogg_err1  \\\n",
       "6743         -0.000094  ...            -196      4.371           0.124   \n",
       "1510         -0.001370  ...            -187      3.594           0.360   \n",
       "360          -0.002310  ...             -80      4.602           0.024   \n",
       "5462         -0.018100  ...            -227      4.120           0.172   \n",
       "5780         -0.009480  ...            -214      4.455           0.052   \n",
       "\n",
       "      koi_slogg_err2  koi_srad  koi_srad_err1  koi_srad_err2         ra  \\\n",
       "6743          -0.186     1.073          0.316         -0.170  289.74515   \n",
       "1510          -0.120     3.204          0.594         -1.287  297.85938   \n",
       "360           -0.038     0.716          0.040         -0.032  292.46976   \n",
       "5462          -0.172     1.664          0.864         -0.411  295.38477   \n",
       "5780          -0.195     1.026          0.302         -0.108  292.69376   \n",
       "\n",
       "            dec  koi_kepmag  \n",
       "6743  45.187160      15.187  \n",
       "1510  40.326939      13.214  \n",
       "360   37.567791      15.391  \n",
       "5462  49.333672      11.270  \n",
       "5780  42.760899      14.244  \n",
       "\n",
       "[5 rows x 40 columns]"
      ]
     },
     "execution_count": 10,
     "metadata": {},
     "output_type": "execute_result"
    }
   ],
   "source": [
    "X_train.head()"
   ]
  },
  {
   "cell_type": "markdown",
   "metadata": {},
   "source": [
    "# Pre-processing\n",
    "\n",
    "Scale the data using the MinMaxScaler and perform some feature selection"
   ]
  },
  {
   "cell_type": "code",
   "execution_count": 11,
   "metadata": {},
   "outputs": [],
   "source": [
    "from sklearn.preprocessing import MinMaxScaler  #importing MinMaxScaler, scaling data from [0-1]\n",
    "def scale_minmax(X_values):\n",
    "    return MinMaxScaler().fit(X_values)"
   ]
  },
  {
   "cell_type": "code",
   "execution_count": 12,
   "metadata": {},
   "outputs": [],
   "source": [
    "# Scale your data\n",
    "# creating the scaler\n",
    "min_max_scaler = scale_minmax(X_train)"
   ]
  },
  {
   "cell_type": "code",
   "execution_count": 13,
   "metadata": {
    "scrolled": true
   },
   "outputs": [
    {
     "data": {
      "text/plain": [
       "array([[0.        , 1.        , 0.        , ..., 0.45228515, 0.54193826,\n",
       "        0.67947764],\n",
       "       [0.        , 0.        , 1.        , ..., 0.82339645, 0.23052016,\n",
       "        0.51640631],\n",
       "       [0.        , 0.        , 0.        , ..., 0.57689754, 0.05372807,\n",
       "        0.69633854],\n",
       "       ...,\n",
       "       [0.        , 0.        , 0.        , ..., 0.14483267, 0.67482771,\n",
       "        0.63269692],\n",
       "       [1.        , 0.        , 0.        , ..., 0.82602581, 0.65586148,\n",
       "        0.63096124],\n",
       "       [0.        , 1.        , 0.        , ..., 0.85826502, 0.31000442,\n",
       "        0.65137615]])"
      ]
     },
     "execution_count": 13,
     "metadata": {},
     "output_type": "execute_result"
    }
   ],
   "source": [
    "X_train_scaled = min_max_scaler.transform(X_train)\n",
    "X_train_scaled"
   ]
  },
  {
   "cell_type": "code",
   "execution_count": 14,
   "metadata": {},
   "outputs": [
    {
     "data": {
      "text/plain": [
       "array([[0.        , 1.        , 0.        , ..., 0.47038649, 0.23002051,\n",
       "        0.70311596],\n",
       "       [0.        , 0.        , 0.        , ..., 0.5030053 , 0.92867177,\n",
       "        0.72948178],\n",
       "       [0.        , 0.        , 0.        , ..., 0.61723474, 0.75066098,\n",
       "        0.62525829],\n",
       "       ...,\n",
       "       [0.        , 0.        , 0.        , ..., 0.6919557 , 0.38434666,\n",
       "        0.55550045],\n",
       "       [1.        , 0.        , 0.        , ..., 0.63295461, 0.1443941 ,\n",
       "        0.19100752],\n",
       "       [0.        , 0.        , 0.        , ..., 0.78722122, 0.64747716,\n",
       "        0.55202909]])"
      ]
     },
     "execution_count": 14,
     "metadata": {},
     "output_type": "execute_result"
    }
   ],
   "source": [
    "# The same instance of the transformer can then be applied to some new test data unseen during the fit call:\n",
    "# the same scaling and shifting operations will be applied to be consistent with the transformation performed on the \n",
    "# train data --> https://scikit-learn.org/stable/modules/preprocessing.html#scaling-features-to-a-range\n",
    "X_test_scaled = min_max_scaler.transform(X_test)\n",
    "X_test_scaled"
   ]
  },
  {
   "cell_type": "markdown",
   "metadata": {},
   "source": [
    "# Train the Model\n",
    "\n"
   ]
  },
  {
   "cell_type": "code",
   "execution_count": 15,
   "metadata": {},
   "outputs": [
    {
     "data": {
      "text/plain": [
       "LogisticRegression()"
      ]
     },
     "execution_count": 15,
     "metadata": {},
     "output_type": "execute_result"
    }
   ],
   "source": [
    "from sklearn.linear_model import LogisticRegression\n",
    "classifier = LogisticRegression()\n",
    "classifier"
   ]
  },
  {
   "cell_type": "code",
   "execution_count": 16,
   "metadata": {
    "scrolled": true
   },
   "outputs": [
    {
     "data": {
      "text/plain": [
       "LogisticRegression()"
      ]
     },
     "execution_count": 16,
     "metadata": {},
     "output_type": "execute_result"
    }
   ],
   "source": [
    "#Fit (train) or model using the unscaled training data\n",
    "classifier.fit(X_train, y_train)"
   ]
  },
  {
   "cell_type": "markdown",
   "metadata": {},
   "source": [
    "##### Validate the model using unscaled train and test data"
   ]
  },
  {
   "cell_type": "code",
   "execution_count": 17,
   "metadata": {
    "scrolled": true
   },
   "outputs": [
    {
     "name": "stdout",
     "output_type": "stream",
     "text": [
      "Training Data Score: 0.6341789052069426\n",
      "Testing Data Score: 0.6270022883295194\n"
     ]
    }
   ],
   "source": [
    "print(f\"Training Data Score: {classifier.score(X_train, y_train)}\")\n",
    "print(f\"Testing Data Score: {classifier.score(X_test, y_test)}\")"
   ]
  },
  {
   "cell_type": "markdown",
   "metadata": {},
   "source": [
    "### Using Scaled Data"
   ]
  },
  {
   "cell_type": "code",
   "execution_count": 18,
   "metadata": {},
   "outputs": [
    {
     "data": {
      "text/plain": [
       "LogisticRegression()"
      ]
     },
     "execution_count": 18,
     "metadata": {},
     "output_type": "execute_result"
    }
   ],
   "source": [
    "model2 = LogisticRegression()\n",
    "model2"
   ]
  },
  {
   "cell_type": "code",
   "execution_count": 19,
   "metadata": {
    "scrolled": true
   },
   "outputs": [
    {
     "data": {
      "text/plain": [
       "LogisticRegression()"
      ]
     },
     "execution_count": 19,
     "metadata": {},
     "output_type": "execute_result"
    }
   ],
   "source": [
    "#Fit (train) or model using the scaled training data\n",
    "model2.fit(X_train_scaled, y_train)"
   ]
  },
  {
   "cell_type": "markdown",
   "metadata": {},
   "source": [
    "##### Validate the model using the scaled data"
   ]
  },
  {
   "cell_type": "code",
   "execution_count": 20,
   "metadata": {},
   "outputs": [],
   "source": [
    "train_score = model2.score(X_train_scaled, y_train)\n",
    "test_score = model2.score(X_test_scaled, y_test)"
   ]
  },
  {
   "cell_type": "code",
   "execution_count": 21,
   "metadata": {
    "scrolled": false
   },
   "outputs": [
    {
     "name": "stdout",
     "output_type": "stream",
     "text": [
      "Training Data Score: 0.8506580202174328\n",
      "Testing Data Score: 0.8535469107551488\n"
     ]
    }
   ],
   "source": [
    "print(f\"Training Data Score: {train_score}\")\n",
    "print(f\"Testing Data Score: {test_score}\")"
   ]
  },
  {
   "cell_type": "markdown",
   "metadata": {},
   "source": [
    "<center> <h3 style=\"color:blue;\"> Logistic Regression Feature Importance </h3> </center>"
   ]
  },
  {
   "cell_type": "code",
   "execution_count": 22,
   "metadata": {
    "scrolled": false
   },
   "outputs": [
    {
     "name": "stdout",
     "output_type": "stream",
     "text": [
      "Feature: 0, Score: -3.79763\n",
      "Feature: 1, Score: -2.32882\n",
      "Feature: 2, Score: -3.04955\n",
      "Feature: 3, Score: -2.66536\n",
      "Feature: 4, Score: 1.19007\n",
      "Feature: 5, Score: 0.54585\n",
      "Feature: 6, Score: 0.18257\n",
      "Feature: 7, Score: -0.36395\n",
      "Feature: 8, Score: 2.43214\n",
      "Feature: 9, Score: -1.70373\n",
      "Feature: 10, Score: 0.26308\n",
      "Feature: 11, Score: 0.92430\n",
      "Feature: 12, Score: 0.63250\n",
      "Feature: 13, Score: -2.25986\n",
      "Feature: 14, Score: 2.90879\n",
      "Feature: 15, Score: -2.18037\n",
      "Feature: 16, Score: -0.47691\n",
      "Feature: 17, Score: 0.01056\n",
      "Feature: 18, Score: 0.71786\n",
      "Feature: 19, Score: -0.01333\n",
      "Feature: 20, Score: -0.01047\n",
      "Feature: 21, Score: 0.74260\n",
      "Feature: 22, Score: 1.55459\n",
      "Feature: 23, Score: -0.02556\n",
      "Feature: 24, Score: -0.00235\n",
      "Feature: 25, Score: 0.75261\n",
      "Feature: 26, Score: -1.86673\n",
      "Feature: 27, Score: -0.37134\n",
      "Feature: 28, Score: -0.65590\n",
      "Feature: 29, Score: 0.99214\n",
      "Feature: 30, Score: -0.53113\n",
      "Feature: 31, Score: -0.64820\n",
      "Feature: 32, Score: 0.08356\n",
      "Feature: 33, Score: -0.50370\n",
      "Feature: 34, Score: 0.15073\n",
      "Feature: 35, Score: 0.54982\n",
      "Feature: 36, Score: 0.60598\n",
      "Feature: 37, Score: 0.13906\n",
      "Feature: 38, Score: -0.07810\n",
      "Feature: 39, Score: -0.18219\n"
     ]
    },
    {
     "data": {
      "image/png": "[encoded data removed]",
      "text/plain": [
       "<Figure size 432x288 with 1 Axes>"
      ]
     },
     "metadata": {
      "needs_background": "light"
     },
     "output_type": "display_data"
    }
   ],
   "source": [
    "# Source https://machinelearningmastery.com/calculate-feature-importance-with-python/\n",
    "importance = model2.coef_[0]\n",
    "# summarize feature importance\n",
    "for i,v in enumerate(importance):\n",
    "    print('Feature: %0d, Score: %.5f' % (i,v))\n",
    "# plot feature importance\n",
    "plt.bar([x for x in range(len(importance))], importance)\n",
    "plt.show()"
   ]
  },
  {
   "cell_type": "markdown",
   "metadata": {},
   "source": [
    "<div style=\"height:auto;background-color:pink;border:2px solid;\"> \n",
    "    <h2 style=\"text-align:center;color:orange;\">NOTES:</h2>\n",
    "    <ul> \n",
    "        <li>The Positive coeficients represent the features that make the final result to tend to 1</li> \n",
    "        <li>The Negative coeficientsrepresent the features that make the final result to tend to 0</li> \n",
    "    </ul>\n",
    "</div>"
   ]
  },
  {
   "cell_type": "code",
   "execution_count": 23,
   "metadata": {
    "scrolled": true
   },
   "outputs": [],
   "source": [
    "from sklearn.feature_selection import SelectFromModel\n",
    "# The intended method for this function is that it will select the features by importance and we can just save \n",
    "# them as its own features dataframe and directly implement into a tuned model."
   ]
  },
  {
   "cell_type": "markdown",
   "metadata": {},
   "source": [
    "### finding the best number of features to be used"
   ]
  },
  {
   "cell_type": "code",
   "execution_count": 24,
   "metadata": {
    "scrolled": false
   },
   "outputs": [
    {
     "name": "stdout",
     "output_type": "stream",
     "text": [
      "[(1, 0.5012397482357429), (2, 0.5798207133320618), (3, 0.7400343314896052), (4, 0.7512874308601946), (5, 0.822429906542056), (8, 0.8266259774938013), (9, 0.831012778943353), (6, 0.8350181193972916), (7, 0.8388327293534236), (10, 0.840549303833683), (25, 0.8422658783139424), (19, 0.8430288003051688), (18, 0.8432195308029754), (16, 0.843410261300782), (17, 0.843410261300782), (21, 0.843410261300782), (22, 0.843410261300782), (20, 0.8436009917985886), (23, 0.844363913789815), (29, 0.844363913789815), (24, 0.8445546442876216), (28, 0.8445546442876216), (27, 0.8451268357810414), (26, 0.8458897577722678), (32, 0.8458897577722678), (30, 0.8466526797634942), (31, 0.8468434102613008), (11, 0.8470341407591074), (33, 0.8472248712569139), (12, 0.8493229067327865), (13, 0.8493229067327865), (14, 0.850085828724013), (36, 0.8502765592218196), (38, 0.8506580202174328), (40, 0.8506580202174328), (15, 0.8508487507152394), (37, 0.8508487507152394), (35, 0.8512302117108526), (34, 0.8514209422086592), (39, 0.851993133702079)]\n"
     ]
    },
    {
     "data": {
      "image/png": "[encoded data removed]",
      "text/plain": [
       "<Figure size 432x288 with 1 Axes>"
      ]
     },
     "metadata": {
      "needs_background": "light"
     },
     "output_type": "display_data"
    }
   ],
   "source": [
    "scores = []\n",
    "def plot_features(n,model2):\n",
    "    smf = SelectFromModel(model2, threshold=-np.inf, max_features=n)\n",
    "    smf.fit(X_train_scaled, y_train)\n",
    "    feature_idx = smf.get_support()\n",
    "    feature_name = X.columns[feature_idx]\n",
    "    X_train_ = X_train[feature_name.tolist()]\n",
    "    X_test_ = X_test[feature_name.tolist()]\n",
    "    min_max_scaler = scale_minmax(X_train_)\n",
    "    X_train_scaled_ = min_max_scaler.transform(X_train_)\n",
    "    X_test_scaled_ = min_max_scaler.transform(X_test_)\n",
    "    model3 = LogisticRegression()\n",
    "    #Fit (train) or model using the scaled training data\n",
    "    model3.fit(X_train_scaled_, y_train)\n",
    "    scores.append((n,model3.score(X_train_scaled_, y_train)))\n",
    "    plt.bar(n, model3.score(X_train_scaled_, y_train))\n",
    "\n",
    "for n in range(1,41):\n",
    "    plot_features(n,model2)\n",
    "print(sorted(scores, key = lambda x: x[1]))"
   ]
  },
  {
   "cell_type": "markdown",
   "metadata": {},
   "source": [
    "<div style=\"height:auto;background-color:lightgreen;border:2px solid;\"> \n",
    "    <h2 style=\"text-align:center;\">Optimal Number of features</h2>\n",
    "    <h4 style=\"color:gray;margin-bottom:20px;\">After trying different configurations, 39 is the optimal number of features to obtaing the highest Score with the\n",
    "    current X_train data</h4>\n",
    "</div>"
   ]
  },
  {
   "cell_type": "markdown",
   "metadata": {},
   "source": [
    "### Training model using the best Features"
   ]
  },
  {
   "cell_type": "code",
   "execution_count": 25,
   "metadata": {},
   "outputs": [
    {
     "data": {
      "text/plain": [
       "Index(['koi_fpflag_nt', 'koi_fpflag_ss', 'koi_fpflag_co', 'koi_fpflag_ec',\n",
       "       'koi_period', 'koi_period_err1', 'koi_period_err2', 'koi_time0bk',\n",
       "       'koi_time0bk_err1', 'koi_time0bk_err2', 'koi_impact', 'koi_impact_err1',\n",
       "       'koi_impact_err2', 'koi_duration', 'koi_duration_err1',\n",
       "       'koi_duration_err2', 'koi_depth', 'koi_depth_err2', 'koi_prad',\n",
       "       'koi_prad_err1', 'koi_prad_err2', 'koi_teq', 'koi_insol',\n",
       "       'koi_insol_err1', 'koi_insol_err2', 'koi_model_snr', 'koi_tce_plnt_num',\n",
       "       'koi_steff', 'koi_steff_err1', 'koi_steff_err2', 'koi_slogg',\n",
       "       'koi_slogg_err1', 'koi_slogg_err2', 'koi_srad', 'koi_srad_err1',\n",
       "       'koi_srad_err2', 'ra', 'dec', 'koi_kepmag'],\n",
       "      dtype='object')"
      ]
     },
     "execution_count": 25,
     "metadata": {},
     "output_type": "execute_result"
    }
   ],
   "source": [
    "smf = SelectFromModel(model2, threshold=-np.inf, max_features=39)\n",
    "smf.fit(X_train_scaled, y_train)\n",
    "feature_idx = smf.get_support()\n",
    "feature_name = X.columns[feature_idx]\n",
    "feature_name"
   ]
  },
  {
   "cell_type": "code",
   "execution_count": 26,
   "metadata": {},
   "outputs": [
    {
     "data": {
      "text/html": [
       "<div>\n",
       "<style scoped>\n",
       "    .dataframe tbody tr th:only-of-type {\n",
       "        vertical-align: middle;\n",
       "    }\n",
       "\n",
       "    .dataframe tbody tr th {\n",
       "        vertical-align: top;\n",
       "    }\n",
       "\n",
       "    .dataframe thead th {\n",
       "        text-align: right;\n",
       "    }\n",
       "</style>\n",
       "<table border=\"1\" class=\"dataframe\">\n",
       "  <thead>\n",
       "    <tr style=\"text-align: right;\">\n",
       "      <th></th>\n",
       "      <th>koi_fpflag_nt</th>\n",
       "      <th>koi_fpflag_ss</th>\n",
       "      <th>koi_fpflag_co</th>\n",
       "      <th>koi_fpflag_ec</th>\n",
       "      <th>koi_period</th>\n",
       "      <th>koi_period_err1</th>\n",
       "      <th>koi_period_err2</th>\n",
       "      <th>koi_time0bk</th>\n",
       "      <th>koi_time0bk_err1</th>\n",
       "      <th>koi_time0bk_err2</th>\n",
       "      <th>...</th>\n",
       "      <th>koi_steff_err2</th>\n",
       "      <th>koi_slogg</th>\n",
       "      <th>koi_slogg_err1</th>\n",
       "      <th>koi_slogg_err2</th>\n",
       "      <th>koi_srad</th>\n",
       "      <th>koi_srad_err1</th>\n",
       "      <th>koi_srad_err2</th>\n",
       "      <th>ra</th>\n",
       "      <th>dec</th>\n",
       "      <th>koi_kepmag</th>\n",
       "    </tr>\n",
       "  </thead>\n",
       "  <tbody>\n",
       "    <tr>\n",
       "      <th>6743</th>\n",
       "      <td>0</td>\n",
       "      <td>1</td>\n",
       "      <td>0</td>\n",
       "      <td>0</td>\n",
       "      <td>1.721314</td>\n",
       "      <td>1.950000e-07</td>\n",
       "      <td>-1.950000e-07</td>\n",
       "      <td>132.531896</td>\n",
       "      <td>0.000094</td>\n",
       "      <td>-0.000094</td>\n",
       "      <td>...</td>\n",
       "      <td>-196</td>\n",
       "      <td>4.371</td>\n",
       "      <td>0.124</td>\n",
       "      <td>-0.186</td>\n",
       "      <td>1.073</td>\n",
       "      <td>0.316</td>\n",
       "      <td>-0.170</td>\n",
       "      <td>289.74515</td>\n",
       "      <td>45.187160</td>\n",
       "      <td>15.187</td>\n",
       "    </tr>\n",
       "    <tr>\n",
       "      <th>1510</th>\n",
       "      <td>0</td>\n",
       "      <td>0</td>\n",
       "      <td>1</td>\n",
       "      <td>0</td>\n",
       "      <td>1.087491</td>\n",
       "      <td>1.730000e-06</td>\n",
       "      <td>-1.730000e-06</td>\n",
       "      <td>131.770340</td>\n",
       "      <td>0.001370</td>\n",
       "      <td>-0.001370</td>\n",
       "      <td>...</td>\n",
       "      <td>-187</td>\n",
       "      <td>3.594</td>\n",
       "      <td>0.360</td>\n",
       "      <td>-0.120</td>\n",
       "      <td>3.204</td>\n",
       "      <td>0.594</td>\n",
       "      <td>-1.287</td>\n",
       "      <td>297.85938</td>\n",
       "      <td>40.326939</td>\n",
       "      <td>13.214</td>\n",
       "    </tr>\n",
       "    <tr>\n",
       "      <th>360</th>\n",
       "      <td>0</td>\n",
       "      <td>0</td>\n",
       "      <td>0</td>\n",
       "      <td>0</td>\n",
       "      <td>16.568068</td>\n",
       "      <td>5.230000e-05</td>\n",
       "      <td>-5.230000e-05</td>\n",
       "      <td>146.152850</td>\n",
       "      <td>0.002310</td>\n",
       "      <td>-0.002310</td>\n",
       "      <td>...</td>\n",
       "      <td>-80</td>\n",
       "      <td>4.602</td>\n",
       "      <td>0.024</td>\n",
       "      <td>-0.038</td>\n",
       "      <td>0.716</td>\n",
       "      <td>0.040</td>\n",
       "      <td>-0.032</td>\n",
       "      <td>292.46976</td>\n",
       "      <td>37.567791</td>\n",
       "      <td>15.391</td>\n",
       "    </tr>\n",
       "    <tr>\n",
       "      <th>5462</th>\n",
       "      <td>1</td>\n",
       "      <td>0</td>\n",
       "      <td>0</td>\n",
       "      <td>0</td>\n",
       "      <td>2.500128</td>\n",
       "      <td>4.010000e-05</td>\n",
       "      <td>-4.010000e-05</td>\n",
       "      <td>131.582900</td>\n",
       "      <td>0.018100</td>\n",
       "      <td>-0.018100</td>\n",
       "      <td>...</td>\n",
       "      <td>-227</td>\n",
       "      <td>4.120</td>\n",
       "      <td>0.172</td>\n",
       "      <td>-0.172</td>\n",
       "      <td>1.664</td>\n",
       "      <td>0.864</td>\n",
       "      <td>-0.411</td>\n",
       "      <td>295.38477</td>\n",
       "      <td>49.333672</td>\n",
       "      <td>11.270</td>\n",
       "    </tr>\n",
       "    <tr>\n",
       "      <th>5780</th>\n",
       "      <td>0</td>\n",
       "      <td>1</td>\n",
       "      <td>1</td>\n",
       "      <td>1</td>\n",
       "      <td>2.245721</td>\n",
       "      <td>2.340000e-05</td>\n",
       "      <td>-2.340000e-05</td>\n",
       "      <td>133.266780</td>\n",
       "      <td>0.009480</td>\n",
       "      <td>-0.009480</td>\n",
       "      <td>...</td>\n",
       "      <td>-214</td>\n",
       "      <td>4.455</td>\n",
       "      <td>0.052</td>\n",
       "      <td>-0.195</td>\n",
       "      <td>1.026</td>\n",
       "      <td>0.302</td>\n",
       "      <td>-0.108</td>\n",
       "      <td>292.69376</td>\n",
       "      <td>42.760899</td>\n",
       "      <td>14.244</td>\n",
       "    </tr>\n",
       "    <tr>\n",
       "      <th>...</th>\n",
       "      <td>...</td>\n",
       "      <td>...</td>\n",
       "      <td>...</td>\n",
       "      <td>...</td>\n",
       "      <td>...</td>\n",
       "      <td>...</td>\n",
       "      <td>...</td>\n",
       "      <td>...</td>\n",
       "      <td>...</td>\n",
       "      <td>...</td>\n",
       "      <td>...</td>\n",
       "      <td>...</td>\n",
       "      <td>...</td>\n",
       "      <td>...</td>\n",
       "      <td>...</td>\n",
       "      <td>...</td>\n",
       "      <td>...</td>\n",
       "      <td>...</td>\n",
       "      <td>...</td>\n",
       "      <td>...</td>\n",
       "      <td>...</td>\n",
       "    </tr>\n",
       "    <tr>\n",
       "      <th>6576</th>\n",
       "      <td>0</td>\n",
       "      <td>0</td>\n",
       "      <td>0</td>\n",
       "      <td>0</td>\n",
       "      <td>7.165204</td>\n",
       "      <td>2.670000e-05</td>\n",
       "      <td>-2.670000e-05</td>\n",
       "      <td>132.969210</td>\n",
       "      <td>0.003020</td>\n",
       "      <td>-0.003020</td>\n",
       "      <td>...</td>\n",
       "      <td>-260</td>\n",
       "      <td>4.417</td>\n",
       "      <td>0.054</td>\n",
       "      <td>-0.216</td>\n",
       "      <td>1.103</td>\n",
       "      <td>0.358</td>\n",
       "      <td>-0.128</td>\n",
       "      <td>298.08453</td>\n",
       "      <td>40.283249</td>\n",
       "      <td>15.302</td>\n",
       "    </tr>\n",
       "    <tr>\n",
       "      <th>2060</th>\n",
       "      <td>0</td>\n",
       "      <td>0</td>\n",
       "      <td>0</td>\n",
       "      <td>0</td>\n",
       "      <td>2.460501</td>\n",
       "      <td>1.170000e-05</td>\n",
       "      <td>-1.170000e-05</td>\n",
       "      <td>133.616050</td>\n",
       "      <td>0.004040</td>\n",
       "      <td>-0.004040</td>\n",
       "      <td>...</td>\n",
       "      <td>-174</td>\n",
       "      <td>4.626</td>\n",
       "      <td>0.058</td>\n",
       "      <td>-0.036</td>\n",
       "      <td>0.634</td>\n",
       "      <td>0.056</td>\n",
       "      <td>-0.056</td>\n",
       "      <td>289.69748</td>\n",
       "      <td>43.372089</td>\n",
       "      <td>15.245</td>\n",
       "    </tr>\n",
       "    <tr>\n",
       "      <th>2259</th>\n",
       "      <td>0</td>\n",
       "      <td>0</td>\n",
       "      <td>0</td>\n",
       "      <td>0</td>\n",
       "      <td>42.949522</td>\n",
       "      <td>1.488000e-04</td>\n",
       "      <td>-1.488000e-04</td>\n",
       "      <td>153.737860</td>\n",
       "      <td>0.002640</td>\n",
       "      <td>-0.002640</td>\n",
       "      <td>...</td>\n",
       "      <td>-79</td>\n",
       "      <td>4.384</td>\n",
       "      <td>0.137</td>\n",
       "      <td>-0.074</td>\n",
       "      <td>0.986</td>\n",
       "      <td>0.107</td>\n",
       "      <td>-0.117</td>\n",
       "      <td>283.02280</td>\n",
       "      <td>47.261131</td>\n",
       "      <td>14.621</td>\n",
       "    </tr>\n",
       "    <tr>\n",
       "      <th>844</th>\n",
       "      <td>1</td>\n",
       "      <td>0</td>\n",
       "      <td>0</td>\n",
       "      <td>0</td>\n",
       "      <td>191.239133</td>\n",
       "      <td>2.420000e-03</td>\n",
       "      <td>-2.420000e-03</td>\n",
       "      <td>286.220340</td>\n",
       "      <td>0.007210</td>\n",
       "      <td>-0.007210</td>\n",
       "      <td>...</td>\n",
       "      <td>-101</td>\n",
       "      <td>3.963</td>\n",
       "      <td>0.054</td>\n",
       "      <td>-0.045</td>\n",
       "      <td>1.699</td>\n",
       "      <td>0.147</td>\n",
       "      <td>-0.123</td>\n",
       "      <td>297.91687</td>\n",
       "      <td>46.965130</td>\n",
       "      <td>14.600</td>\n",
       "    </tr>\n",
       "    <tr>\n",
       "      <th>5594</th>\n",
       "      <td>0</td>\n",
       "      <td>1</td>\n",
       "      <td>0</td>\n",
       "      <td>0</td>\n",
       "      <td>6.091955</td>\n",
       "      <td>4.340000e-07</td>\n",
       "      <td>-4.340000e-07</td>\n",
       "      <td>137.587759</td>\n",
       "      <td>0.000058</td>\n",
       "      <td>-0.000058</td>\n",
       "      <td>...</td>\n",
       "      <td>-182</td>\n",
       "      <td>4.424</td>\n",
       "      <td>0.135</td>\n",
       "      <td>-0.165</td>\n",
       "      <td>0.913</td>\n",
       "      <td>0.227</td>\n",
       "      <td>-0.140</td>\n",
       "      <td>298.62177</td>\n",
       "      <td>41.567429</td>\n",
       "      <td>14.847</td>\n",
       "    </tr>\n",
       "  </tbody>\n",
       "</table>\n",
       "<p>5243 rows × 39 columns</p>\n",
       "</div>"
      ],
      "text/plain": [
       "      koi_fpflag_nt  koi_fpflag_ss  koi_fpflag_co  koi_fpflag_ec  koi_period  \\\n",
       "6743              0              1              0              0    1.721314   \n",
       "1510              0              0              1              0    1.087491   \n",
       "360               0              0              0              0   16.568068   \n",
       "5462              1              0              0              0    2.500128   \n",
       "5780              0              1              1              1    2.245721   \n",
       "...             ...            ...            ...            ...         ...   \n",
       "6576              0              0              0              0    7.165204   \n",
       "2060              0              0              0              0    2.460501   \n",
       "2259              0              0              0              0   42.949522   \n",
       "844               1              0              0              0  191.239133   \n",
       "5594              0              1              0              0    6.091955   \n",
       "\n",
       "      koi_period_err1  koi_period_err2  koi_time0bk  koi_time0bk_err1  \\\n",
       "6743     1.950000e-07    -1.950000e-07   132.531896          0.000094   \n",
       "1510     1.730000e-06    -1.730000e-06   131.770340          0.001370   \n",
       "360      5.230000e-05    -5.230000e-05   146.152850          0.002310   \n",
       "5462     4.010000e-05    -4.010000e-05   131.582900          0.018100   \n",
       "5780     2.340000e-05    -2.340000e-05   133.266780          0.009480   \n",
       "...               ...              ...          ...               ...   \n",
       "6576     2.670000e-05    -2.670000e-05   132.969210          0.003020   \n",
       "2060     1.170000e-05    -1.170000e-05   133.616050          0.004040   \n",
       "2259     1.488000e-04    -1.488000e-04   153.737860          0.002640   \n",
       "844      2.420000e-03    -2.420000e-03   286.220340          0.007210   \n",
       "5594     4.340000e-07    -4.340000e-07   137.587759          0.000058   \n",
       "\n",
       "      koi_time0bk_err2  ...  koi_steff_err2  koi_slogg  koi_slogg_err1  \\\n",
       "6743         -0.000094  ...            -196      4.371           0.124   \n",
       "1510         -0.001370  ...            -187      3.594           0.360   \n",
       "360          -0.002310  ...             -80      4.602           0.024   \n",
       "5462         -0.018100  ...            -227      4.120           0.172   \n",
       "5780         -0.009480  ...            -214      4.455           0.052   \n",
       "...                ...  ...             ...        ...             ...   \n",
       "6576         -0.003020  ...            -260      4.417           0.054   \n",
       "2060         -0.004040  ...            -174      4.626           0.058   \n",
       "2259         -0.002640  ...             -79      4.384           0.137   \n",
       "844          -0.007210  ...            -101      3.963           0.054   \n",
       "5594         -0.000058  ...            -182      4.424           0.135   \n",
       "\n",
       "      koi_slogg_err2  koi_srad  koi_srad_err1  koi_srad_err2         ra  \\\n",
       "6743          -0.186     1.073          0.316         -0.170  289.74515   \n",
       "1510          -0.120     3.204          0.594         -1.287  297.85938   \n",
       "360           -0.038     0.716          0.040         -0.032  292.46976   \n",
       "5462          -0.172     1.664          0.864         -0.411  295.38477   \n",
       "5780          -0.195     1.026          0.302         -0.108  292.69376   \n",
       "...              ...       ...            ...            ...        ...   \n",
       "6576          -0.216     1.103          0.358         -0.128  298.08453   \n",
       "2060          -0.036     0.634          0.056         -0.056  289.69748   \n",
       "2259          -0.074     0.986          0.107         -0.117  283.02280   \n",
       "844           -0.045     1.699          0.147         -0.123  297.91687   \n",
       "5594          -0.165     0.913          0.227         -0.140  298.62177   \n",
       "\n",
       "            dec  koi_kepmag  \n",
       "6743  45.187160      15.187  \n",
       "1510  40.326939      13.214  \n",
       "360   37.567791      15.391  \n",
       "5462  49.333672      11.270  \n",
       "5780  42.760899      14.244  \n",
       "...         ...         ...  \n",
       "6576  40.283249      15.302  \n",
       "2060  43.372089      15.245  \n",
       "2259  47.261131      14.621  \n",
       "844   46.965130      14.600  \n",
       "5594  41.567429      14.847  \n",
       "\n",
       "[5243 rows x 39 columns]"
      ]
     },
     "execution_count": 26,
     "metadata": {},
     "output_type": "execute_result"
    }
   ],
   "source": [
    "X_train = X_train[feature_name.tolist()]\n",
    "X_test = X_test[feature_name.tolist()]\n",
    "X_train"
   ]
  },
  {
   "cell_type": "code",
   "execution_count": 27,
   "metadata": {},
   "outputs": [],
   "source": [
    "# Re-scaling our data based on new dataset with less features\n",
    "min_max_scaler = scale_minmax(X_train)\n",
    "X_train_scaled = min_max_scaler.transform(X_train)\n",
    "X_test_scaled = min_max_scaler.transform(X_test)"
   ]
  },
  {
   "cell_type": "markdown",
   "metadata": {},
   "source": [
    "### Ratraining Model with new Scaled data"
   ]
  },
  {
   "cell_type": "code",
   "execution_count": 28,
   "metadata": {},
   "outputs": [
    {
     "data": {
      "text/plain": [
       "LogisticRegression()"
      ]
     },
     "execution_count": 28,
     "metadata": {},
     "output_type": "execute_result"
    }
   ],
   "source": [
    "model2 = LogisticRegression()\n",
    "#Fit (train) or model using the scaled training data\n",
    "model2.fit(X_train_scaled, y_train)"
   ]
  },
  {
   "cell_type": "markdown",
   "metadata": {},
   "source": [
    "#### Validate the model using the scaled data"
   ]
  },
  {
   "cell_type": "code",
   "execution_count": 29,
   "metadata": {},
   "outputs": [
    {
     "name": "stdout",
     "output_type": "stream",
     "text": [
      "Model Validation utilizing 39 Features\n",
      "Training Data Score: 0.851993133702079\n",
      "Testing Data Score: 0.8552631578947368\n"
     ]
    }
   ],
   "source": [
    "print(f\"Model Validation utilizing {len(X_train.columns)} Features\")\n",
    "print(f\"Training Data Score: {model2.score(X_train_scaled, y_train)}\")\n",
    "print(f\"Testing Data Score: {model2.score(X_test_scaled, y_test)}\")"
   ]
  },
  {
   "cell_type": "markdown",
   "metadata": {},
   "source": [
    "<div style=\"height:auto;background-color:lightblue;border:2px solid;\"> \n",
    "    <h2 style=\"text-align:center;\">Model Validation with all the features</h2>\n",
    "    <ul> \n",
    "        <li>Model Validation with all the original features \n",
    "            <ul>\n",
    "                <li>Training Data Score: 0.8506580202174328</li>\n",
    "                <li>Testing Data Score: 0.8535469107551488</li>\n",
    "            </ul>\n",
    "        </li> \n",
    "    </ul>\n",
    "</div>"
   ]
  },
  {
   "cell_type": "markdown",
   "metadata": {},
   "source": [
    "# Hyperparameter Tuning\n",
    "\n",
    "Use `GridSearchCV` to tune the model's parameters"
   ]
  },
  {
   "cell_type": "code",
   "execution_count": 30,
   "metadata": {},
   "outputs": [],
   "source": [
    "# Create the GridSearchCV model\n",
    "from sklearn.model_selection import GridSearchCV \n",
    "# param_grid = {'C': np.logspace(-4,4,20),\n",
    "#               'penalty': [\"l1\", \"l2\"],\n",
    "#               'solver':['lbfgs','newton-cg','liblinear','sag','saga'],\n",
    "#               'max_iter':[100,1000,2500,50000]}\n",
    "# grid = GridSearchCV(classifier, param_grid, verbose=3)\n",
    "param_grid = {'C': np.logspace(-4,4,20),\n",
    "              'penalty': [\"l1\", \"l2\"],\n",
    "              'max_iter':[100,1000,2500]}\n",
    "grid = GridSearchCV(model2, param_grid, verbose=3, n_jobs=-1)"
   ]
  },
  {
   "cell_type": "code",
   "execution_count": 31,
   "metadata": {
    "scrolled": false
   },
   "outputs": [
    {
     "name": "stdout",
     "output_type": "stream",
     "text": [
      "Fitting 5 folds for each of 120 candidates, totalling 600 fits\n"
     ]
    },
    {
     "name": "stderr",
     "output_type": "stream",
     "text": [
      "[Parallel(n_jobs=-1)]: Using backend LokyBackend with 12 concurrent workers.\n",
      "[Parallel(n_jobs=-1)]: Done   8 tasks      | elapsed:    5.5s\n",
      "[Parallel(n_jobs=-1)]: Done 126 tasks      | elapsed:    6.3s\n",
      "[Parallel(n_jobs=-1)]: Done 600 out of 600 | elapsed:   51.9s finished\n"
     ]
    },
    {
     "data": {
      "text/plain": [
       "GridSearchCV(estimator=LogisticRegression(), n_jobs=-1,\n",
       "             param_grid={'C': array([1.00000000e-04, 2.63665090e-04, 6.95192796e-04, 1.83298071e-03,\n",
       "       4.83293024e-03, 1.27427499e-02, 3.35981829e-02, 8.85866790e-02,\n",
       "       2.33572147e-01, 6.15848211e-01, 1.62377674e+00, 4.28133240e+00,\n",
       "       1.12883789e+01, 2.97635144e+01, 7.84759970e+01, 2.06913808e+02,\n",
       "       5.45559478e+02, 1.43844989e+03, 3.79269019e+03, 1.00000000e+04]),\n",
       "                         'max_iter': [100, 1000, 2500],\n",
       "                         'penalty': ['l1', 'l2']},\n",
       "             verbose=3)"
      ]
     },
     "execution_count": 31,
     "metadata": {},
     "output_type": "execute_result"
    }
   ],
   "source": [
    "# Train the model with GridSearch\n",
    "grid.fit(X_train_scaled, y_train)"
   ]
  },
  {
   "cell_type": "code",
   "execution_count": 32,
   "metadata": {
    "scrolled": true
   },
   "outputs": [
    {
     "name": "stdout",
     "output_type": "stream",
     "text": [
      "{'C': 3792.690190732246, 'max_iter': 2500, 'penalty': 'l2'}\n",
      "0.8868977361209149\n"
     ]
    }
   ],
   "source": [
    "print(grid.best_params_)\n",
    "print(grid.best_score_)"
   ]
  },
  {
   "cell_type": "markdown",
   "metadata": {},
   "source": [
    "# Save the Model"
   ]
  },
  {
   "cell_type": "code",
   "execution_count": 33,
   "metadata": {},
   "outputs": [
    {
     "data": {
      "text/plain": [
       "['Model_1_LogisticRegression.sav']"
      ]
     },
     "execution_count": 33,
     "metadata": {},
     "output_type": "execute_result"
    }
   ],
   "source": [
    "# save your model by updating \"your_name\" with your name\n",
    "# and \"your_model\" with your model variable\n",
    "# be sure to turn this in to BCS\n",
    "# if joblib fails to import, try running the command to install in terminal/git-bash\n",
    "import joblib\n",
    "filename = 'Model_1_LogisticRegression.sav'\n",
    "joblib.dump(model2, filename)"
   ]
  }
 ],
 "metadata": {
  "kernel_info": {
   "name": "dev"
  },
  "kernelspec": {
   "display_name": "Python [conda env:root]",
   "language": "python",
   "name": "conda-root-py"
  },
  "language_info": {
   "codemirror_mode": {
    "name": "ipython",
    "version": 3
   },
   "file_extension": ".py",
   "mimetype": "text/x-python",
   "name": "python",
   "nbconvert_exporter": "python",
   "pygments_lexer": "ipython3",
   "version": "3.8.5"
  },
  "nteract": {
   "version": "0.12.3"
  }
 },
 "nbformat": 4,
 "nbformat_minor": 2
}
